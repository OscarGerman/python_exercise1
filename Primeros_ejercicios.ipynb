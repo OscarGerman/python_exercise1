{
 "cells": [
  {
   "cell_type": "code",
   "execution_count": 1,
   "id": "eb9f4c68-2925-4657-ae91-7086e18da8aa",
   "metadata": {
    "tags": []
   },
   "outputs": [],
   "source": [
    "# 1. Cargar un archivo csv\n",
    "# 2. Obtener el total de columnas y filas\n",
    "# 3. Sacar las estadísticas del archivo\n",
    "# 4. Renombrar un par de columnas\n",
    "# 5. Selecciona solo 5 columnas y guardarlas en un nuevo archivo .csv"
   ]
  },
  {
   "cell_type": "code",
   "execution_count": 2,
   "id": "c54f2b6b-bd31-4d11-b715-0590c3c9e366",
   "metadata": {
    "tags": []
   },
   "outputs": [],
   "source": [
    "import pandas as pd"
   ]
  },
  {
   "cell_type": "code",
   "execution_count": 7,
   "id": "0b128d66-1a55-47b7-b1e7-21e3791cadfa",
   "metadata": {
    "tags": []
   },
   "outputs": [],
   "source": [
    "# 1. Cargar un archivo CSV\n",
    "archivo = \"Music_Courses.csv\"\n",
    "datos = pd.read_csv(archivo)"
   ]
  },
  {
   "cell_type": "code",
   "execution_count": 13,
   "id": "c2a56c8a-2d17-49e1-a86d-b0452fbf1c41",
   "metadata": {
    "tags": []
   },
   "outputs": [
    {
     "name": "stdout",
     "output_type": "stream",
     "text": [
      "Hay 680 filas y 12 columnas\n"
     ]
    }
   ],
   "source": [
    "# 2. Obtener el total de columnas y filas\n",
    "num_filas, num_columnas = datos.shape\n",
    "\n",
    "print (f'Hay {datos.shape[0]} filas y {datos.shape[1]} columnas')"
   ]
  },
  {
   "cell_type": "code",
   "execution_count": 18,
   "id": "e234a813-a4e6-40ec-ac67-c043238b87a9",
   "metadata": {
    "tags": []
   },
   "outputs": [
    {
     "data": {
      "text/html": [
       "<div>\n",
       "<style scoped>\n",
       "    .dataframe tbody tr th:only-of-type {\n",
       "        vertical-align: middle;\n",
       "    }\n",
       "\n",
       "    .dataframe tbody tr th {\n",
       "        vertical-align: top;\n",
       "    }\n",
       "\n",
       "    .dataframe thead th {\n",
       "        text-align: right;\n",
       "    }\n",
       "</style>\n",
       "<table border=\"1\" class=\"dataframe\">\n",
       "  <thead>\n",
       "    <tr style=\"text-align: right;\">\n",
       "      <th></th>\n",
       "      <th>course_id</th>\n",
       "      <th>price</th>\n",
       "      <th>num_subscribers</th>\n",
       "      <th>num_reviews</th>\n",
       "      <th>num_lectures</th>\n",
       "      <th>Rating</th>\n",
       "      <th>content_duration</th>\n",
       "    </tr>\n",
       "  </thead>\n",
       "  <tbody>\n",
       "    <tr>\n",
       "      <th>count</th>\n",
       "      <td>6.800000e+02</td>\n",
       "      <td>680.000000</td>\n",
       "      <td>680.000000</td>\n",
       "      <td>680.000000</td>\n",
       "      <td>680.000000</td>\n",
       "      <td>680.000000</td>\n",
       "      <td>680.000000</td>\n",
       "    </tr>\n",
       "    <tr>\n",
       "      <th>mean</th>\n",
       "      <td>6.386484e+05</td>\n",
       "      <td>49.558824</td>\n",
       "      <td>1245.130882</td>\n",
       "      <td>46.652941</td>\n",
       "      <td>38.316176</td>\n",
       "      <td>0.308912</td>\n",
       "      <td>2.854387</td>\n",
       "    </tr>\n",
       "    <tr>\n",
       "      <th>std</th>\n",
       "      <td>3.472305e+05</td>\n",
       "      <td>41.187592</td>\n",
       "      <td>5676.381419</td>\n",
       "      <td>337.735677</td>\n",
       "      <td>42.739700</td>\n",
       "      <td>0.303799</td>\n",
       "      <td>3.470463</td>\n",
       "    </tr>\n",
       "    <tr>\n",
       "      <th>min</th>\n",
       "      <td>1.221400e+04</td>\n",
       "      <td>0.000000</td>\n",
       "      <td>0.000000</td>\n",
       "      <td>0.000000</td>\n",
       "      <td>4.000000</td>\n",
       "      <td>0.000000</td>\n",
       "      <td>0.483333</td>\n",
       "    </tr>\n",
       "    <tr>\n",
       "      <th>25%</th>\n",
       "      <td>3.383060e+05</td>\n",
       "      <td>20.000000</td>\n",
       "      <td>31.000000</td>\n",
       "      <td>2.000000</td>\n",
       "      <td>14.000000</td>\n",
       "      <td>0.070000</td>\n",
       "      <td>1.000000</td>\n",
       "    </tr>\n",
       "    <tr>\n",
       "      <th>50%</th>\n",
       "      <td>6.533970e+05</td>\n",
       "      <td>40.000000</td>\n",
       "      <td>138.000000</td>\n",
       "      <td>5.000000</td>\n",
       "      <td>25.000000</td>\n",
       "      <td>0.150000</td>\n",
       "      <td>2.000000</td>\n",
       "    </tr>\n",
       "    <tr>\n",
       "      <th>75%</th>\n",
       "      <td>9.172400e+05</td>\n",
       "      <td>50.000000</td>\n",
       "      <td>870.250000</td>\n",
       "      <td>17.000000</td>\n",
       "      <td>43.000000</td>\n",
       "      <td>0.520000</td>\n",
       "      <td>3.500000</td>\n",
       "    </tr>\n",
       "    <tr>\n",
       "      <th>max</th>\n",
       "      <td>1.272282e+06</td>\n",
       "      <td>200.000000</td>\n",
       "      <td>101154.000000</td>\n",
       "      <td>7676.000000</td>\n",
       "      <td>362.000000</td>\n",
       "      <td>1.000000</td>\n",
       "      <td>38.000000</td>\n",
       "    </tr>\n",
       "  </tbody>\n",
       "</table>\n",
       "</div>"
      ],
      "text/plain": [
       "          course_id       price  num_subscribers  num_reviews  num_lectures  \\\n",
       "count  6.800000e+02  680.000000       680.000000   680.000000    680.000000   \n",
       "mean   6.386484e+05   49.558824      1245.130882    46.652941     38.316176   \n",
       "std    3.472305e+05   41.187592      5676.381419   337.735677     42.739700   \n",
       "min    1.221400e+04    0.000000         0.000000     0.000000      4.000000   \n",
       "25%    3.383060e+05   20.000000        31.000000     2.000000     14.000000   \n",
       "50%    6.533970e+05   40.000000       138.000000     5.000000     25.000000   \n",
       "75%    9.172400e+05   50.000000       870.250000    17.000000     43.000000   \n",
       "max    1.272282e+06  200.000000    101154.000000  7676.000000    362.000000   \n",
       "\n",
       "           Rating  content_duration  \n",
       "count  680.000000        680.000000  \n",
       "mean     0.308912          2.854387  \n",
       "std      0.303799          3.470463  \n",
       "min      0.000000          0.483333  \n",
       "25%      0.070000          1.000000  \n",
       "50%      0.150000          2.000000  \n",
       "75%      0.520000          3.500000  \n",
       "max      1.000000         38.000000  "
      ]
     },
     "execution_count": 18,
     "metadata": {},
     "output_type": "execute_result"
    }
   ],
   "source": [
    "# 3. Sacar las estadísticas del archivo\n",
    "\n",
    "estadisticas = datos.describe()\n",
    "\n",
    "estadisticas"
   ]
  },
  {
   "cell_type": "code",
   "execution_count": 35,
   "id": "46bd1503-88c8-4361-84e9-4d9a9809eaf1",
   "metadata": {
    "tags": []
   },
   "outputs": [
    {
     "name": "stdout",
     "output_type": "stream",
     "text": [
      "0. course_id\n",
      "1. course_title\n",
      "2. url\n",
      "3. Precio\n",
      "4. num_subscribers\n",
      "5. num_reviews\n",
      "6. num_lectures\n",
      "7. level\n",
      "8. Popularidad\n",
      "9. content_duration\n",
      "10. published_timestamp\n",
      "11. subject\n"
     ]
    }
   ],
   "source": [
    "# 4. Renombrar un par de columnas\n",
    "\n",
    "for i, columna in enumerate(datos.columns, start=0):\n",
    "    print(f'{i}. {columna}')"
   ]
  },
  {
   "cell_type": "code",
   "execution_count": 37,
   "id": "01c82f9e-d3e5-4c06-a791-e64f3f200683",
   "metadata": {
    "tags": []
   },
   "outputs": [
    {
     "name": "stdout",
     "output_type": "stream",
     "text": [
      "0. course_id\n",
      "1. Titulo\n",
      "2. url\n",
      "3. Precio\n",
      "4. num_subscribers\n",
      "5. num_reviews\n",
      "6. num_lectures\n",
      "7. level\n",
      "8. Popularidad\n",
      "9. Duracion\n",
      "10. published_timestamp\n",
      "11. Tema\n"
     ]
    }
   ],
   "source": [
    "# 4.1 Renombrar un par de columnas\n",
    "\n",
    "datos.rename(columns={\"course_title\":\"Titulo\", \"content_duration\":\"Duracion\",\"subject\":\"Tema\", \"price\": \"Precio\", \"Rating\": \"Popularidad\",}, inplace=True)\n",
    "\n",
    "for i, columna in enumerate(datos.columns, start=0):\n",
    "    print(f'{i}. {columna}')"
   ]
  },
  {
   "cell_type": "code",
   "execution_count": 38,
   "id": "1a93244d-d612-4161-ba48-5c6a71351746",
   "metadata": {
    "tags": []
   },
   "outputs": [
    {
     "name": "stdout",
     "output_type": "stream",
     "text": [
      "1. Titulo\n",
      "2. Precio\n",
      "3. Popularidad\n",
      "4. Duracion\n",
      "5. Tema\n"
     ]
    }
   ],
   "source": [
    "# 5. Selecciona solo 5 columnas y guardarlas en un nuevo archivo .csv\n",
    "\n",
    "selec_colum = datos.iloc[:, [1, 3, 8, 9, 11]]\n",
    "\n",
    "for i, columna in enumerate(selec_colum.columns, start=1):\n",
    "    print(f'{i}. {columna}')"
   ]
  },
  {
   "cell_type": "code",
   "execution_count": 39,
   "id": "f46e9a3d-691b-4d86-b127-f9edeb281f81",
   "metadata": {
    "tags": []
   },
   "outputs": [],
   "source": [
    "# 5. Selecciona solo 5 columnas y guardarlas en un nuevo archivo .csv\n",
    "\n",
    "archivo_salida = \"Music_Courses_Nuevo.csv\"\n",
    "selec_colum.to_csv(archivo_salida, index=False)"
   ]
  }
 ],
 "metadata": {
  "kernelspec": {
   "display_name": "Python 3 (ipykernel)",
   "language": "python",
   "name": "python3"
  },
  "language_info": {
   "codemirror_mode": {
    "name": "ipython",
    "version": 3
   },
   "file_extension": ".py",
   "mimetype": "text/x-python",
   "name": "python",
   "nbconvert_exporter": "python",
   "pygments_lexer": "ipython3",
   "version": "3.11.5"
  }
 },
 "nbformat": 4,
 "nbformat_minor": 5
}
